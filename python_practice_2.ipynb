{
 "nbformat": 4,
 "nbformat_minor": 0,
 "metadata": {
  "colab": {
   "provenance": []
  },
  "kernelspec": {
   "name": "python3",
   "display_name": "Python 3"
  },
  "language_info": {
   "name": "python"
  }
 },
 "cells": [
  {
   "cell_type": "markdown",
   "source": [
    "# I. Змінні та памʼять."
   ],
   "metadata": {
    "id": "p9wwt0LZzNvn"
   }
  },
  {
   "cell_type": "markdown",
   "source": [
    "1. Створити змінні, що посилаються на два цілих числа, що однакові за значенням, де значення належить проміжку від -5 до 256. Перевірте, чи будуть ці змінні рівні тільки за значенням або ж ще будуть посилатися на один і той самий обʼєкт в памʼяті? Наведіть код та дайте текстову відповідь нижче."
   ],
   "metadata": {
    "id": "HTJrrm95xSV9"
   }
  },
  {
   "cell_type": "code",
   "execution_count": 5,
   "metadata": {
    "id": "TATni2vzayjG"
   },
   "outputs": [
    {
     "data": {
      "text/plain": "True"
     },
     "execution_count": 5,
     "metadata": {},
     "output_type": "execute_result"
    }
   ],
   "source": [
    "x = 10\n",
    "y = 10\n",
    "x == y"
   ]
  },
  {
   "cell_type": "markdown",
   "source": [
    "Так вони рівні за значенням, але також числа в цьому діапазоні кешуються і використовуються один і той же обєкт"
   ],
   "metadata": {
    "id": "zfRG_o3WbRdg"
   }
  },
  {
   "cell_type": "markdown",
   "source": [
    "2. За допомогою якої функції можна перевірити належність змінної до вказаного типу даних (напр. чи змінна True посилається на значення булевого та цілочисленого типу)?"
   ],
   "metadata": {
    "id": "ISORzt6M3vAt"
   }
  },
  {
   "cell_type": "code",
   "source": [
    "type(True)"
   ],
   "metadata": {
    "id": "9vL9CFaMbfyo"
   },
   "execution_count": 3,
   "outputs": [
    {
     "data": {
      "text/plain": "bool"
     },
     "execution_count": 3,
     "metadata": {},
     "output_type": "execute_result"
    }
   ]
  },
  {
   "cell_type": "markdown",
   "source": [
    "# II. Цілі числа та числа з рухомою комою"
   ],
   "metadata": {
    "id": "tRxugKAxwYLw"
   }
  },
  {
   "cell_type": "markdown",
   "source": [
    "3. Створити дві змінні, що посилаються на будь-які ціле число та число з рухомою комою та продемонструвати такі арифметичні операції: додавання, віднімання, ділення, множення, ділення без залишку, ділення по модулю, приведення до ступеню. Всі результати операцій вивести на екран."
   ],
   "metadata": {
    "id": "NLHkgd5Gybc8"
   }
  },
  {
   "cell_type": "code",
   "source": [
    "x = 6.3\n",
    "y = 6\n",
    "print(\n",
    "    f\"\"\"\n",
    "    x+y = {x+y}\n",
    "    x-y = {x-y}\n",
    "    x/y = {x/y}\n",
    "    x*y = {x*y}\n",
    "    x//y = {x//y}\n",
    "    x%y = {x%y}\n",
    "    x**y = {x**y}\n",
    "    \"\"\"\n",
    ")"
   ],
   "metadata": {
    "id": "nb8u_3pjb2cA"
   },
   "execution_count": 9,
   "outputs": [
    {
     "name": "stdout",
     "output_type": "stream",
     "text": [
      "\n",
      "    x+y = 12.3\n",
      "    x-y = 0.2999999999999998\n",
      "    x/y = 1.05\n",
      "    x*y = 37.8\n",
      "    x//y = 1.0\n",
      "    x%y = 0.2999999999999998\n",
      "    x**y = 62523.50220899999\n",
      "    \n"
     ]
    }
   ]
  },
  {
   "cell_type": "markdown",
   "source": [
    "4. Використовуючи змінні з вправи 3, продемонструйте механізм явного перетворення типів, де числа з рухомою комою перетворюються на цілі числа. Також визначте змінну, що посилається на значення булевого типу і спробуйте явно привести її до цілого числа."
   ],
   "metadata": {
    "id": "1kBClKgPzZnC"
   }
  },
  {
   "cell_type": "code",
   "source": [
    "x_new = int(x)\n",
    "x_bool = True\n",
    "x_bool_new = int(x_bool)\n",
    "print(\n",
    "    f\"\"\"\n",
    "    x_bool_new = {x_bool_new}\n",
    "    x_new = {x_new}\n",
    "    \"\"\"\n",
    ")"
   ],
   "metadata": {
    "id": "TbqJbkeUcKsD"
   },
   "execution_count": 13,
   "outputs": [
    {
     "name": "stdout",
     "output_type": "stream",
     "text": [
      "\n",
      "    x_bool_new = 1\n",
      "    x_new = 6\n",
      "    \n"
     ]
    }
   ]
  },
  {
   "cell_type": "markdown",
   "source": [
    "# IІІ. Рядки (String)."
   ],
   "metadata": {
    "id": "EVJ7AflwxrZi"
   }
  },
  {
   "cell_type": "markdown",
   "source": [
    "5. Створити пустий рядок двома різними способами."
   ],
   "metadata": {
    "id": "_s5ECzz9zE61"
   }
  },
  {
   "cell_type": "code",
   "source": [
    "x = \"\"\n",
    "y = str()\n",
    "\n",
    "print(\n",
    "    f\"\"\"\n",
    "    x = {x}\n",
    "    y = {y}\n",
    "    \"\"\"\n",
    ")"
   ],
   "metadata": {
    "id": "fkZJHu9Scvc-"
   },
   "execution_count": 14,
   "outputs": [
    {
     "name": "stdout",
     "output_type": "stream",
     "text": [
      "\n",
      "    x = \n",
      "    y = \n",
      "    \n"
     ]
    }
   ]
  },
  {
   "cell_type": "markdown",
   "source": [
    "6. Створити рядок з апострофом. Зробити його сирим. Вивести обидва рядка на екран."
   ],
   "metadata": {
    "id": "4Bdn9J3MzLf_"
   }
  },
  {
   "cell_type": "code",
   "source": [
    "x = 'string \\''\n",
    "y = r'string \\''\n",
    "\n",
    "print(\n",
    "    f\"\"\"\n",
    "    x = {x}\n",
    "    y = {y}\n",
    "    \"\"\"\n",
    ")"
   ],
   "metadata": {
    "id": "ivji_hsmc0GH"
   },
   "execution_count": 21,
   "outputs": [
    {
     "name": "stdout",
     "output_type": "stream",
     "text": [
      "\n",
      "    x = string '\n",
      "    y = string \\'\n",
      "    \n"
     ]
    }
   ]
  },
  {
   "cell_type": "markdown",
   "source": [
    "7. Створити змінну, що буде посилатися на Ваше прізвище латинкою. Створити форматований рядок, який буде мати вигляд \"My surname is ______\", де на місці нижніх підкреслень буде Ваше прізвище зі змінної."
   ],
   "metadata": {
    "id": "bg_d8wM4z8dS"
   }
  },
  {
   "cell_type": "code",
   "source": [
    "x = 'Melnyk'\n",
    "y = 'Illia'\n",
    "\n",
    "print(\n",
    "    f\"My surname is {x} and my name is {y}\"\n",
    ")"
   ],
   "metadata": {
    "id": "kuxFgpWndACq"
   },
   "execution_count": 24,
   "outputs": [
    {
     "name": "stdout",
     "output_type": "stream",
     "text": [
      "My surname is Melnyk and my name is Illia\n"
     ]
    }
   ]
  },
  {
   "cell_type": "markdown",
   "source": [
    "8. Маючи рядок \"My dog is crazy.\" перетворити його на список [\"my\", \"dog\", \"is\", \"crazy\"]"
   ],
   "metadata": {
    "id": "1Nc6RqvQ0hxU"
   }
  },
  {
   "cell_type": "code",
   "source": [
    "x = \"My dog is crazy.\".replace(\".\",\"\").lower()\n",
    "x_list = x.split(\" \")\n",
    "print(\n",
    "    x_list\n",
    ")"
   ],
   "metadata": {
    "id": "w1Ya4RqedUhw"
   },
   "execution_count": 32,
   "outputs": [
    {
     "name": "stdout",
     "output_type": "stream",
     "text": [
      "['my', 'dog', 'is', 'crazy']\n"
     ]
    }
   ]
  },
  {
   "cell_type": "markdown",
   "source": [
    "# IV. Робота зі списками."
   ],
   "metadata": {
    "id": "GYVqN9uP1D4n"
   }
  },
  {
   "cell_type": "markdown",
   "source": [
    "9. Створити список двома різними за синтаксисом способами. За допомогою вбудованої функції обчисліть довжину одного з них."
   ],
   "metadata": {
    "id": "7-DeDunw2sO-"
   }
  },
  {
   "cell_type": "code",
   "source": [
    "l1 = [\"l1\",\"l2\",\"l3\"]\n",
    "l2 = list(\"l3\")\n",
    "print(\n",
    "    len(l2)\n",
    ")"
   ],
   "metadata": {
    "id": "zxg06Uuxdyoh"
   },
   "execution_count": 1,
   "outputs": [
    {
     "name": "stdout",
     "output_type": "stream",
     "text": [
      "0\n"
     ]
    }
   ]
  },
  {
   "cell_type": "markdown",
   "source": [
    "10. Створіть два списка та за допомогою спеціального методу додайте другий з них в якості останнього елемента першого."
   ],
   "metadata": {
    "id": "8vmGUTjL22gI"
   }
  },
  {
   "cell_type": "code",
   "source": [
    "l1 = [\"l1\",\"l2\",\"l3\",\"l4\"]\n",
    "l2 = list([\"l3\"])\n",
    "l1.append(l2)\n",
    "print(l1)"
   ],
   "metadata": {
    "id": "uHtjWYw7d7hm"
   },
   "execution_count": 5,
   "outputs": [
    {
     "name": "stdout",
     "output_type": "stream",
     "text": [
      "['l1', 'l2', 'l3', 'l4', ['l3']]\n"
     ]
    }
   ]
  },
  {
   "cell_type": "markdown",
   "source": [
    "11. Створіть список, де елементами цього списку також є списки. Отримай перший елемент з останнього рядка та виведи значення на екран."
   ],
   "metadata": {
    "id": "JC3BkD-67_--"
   }
  },
  {
   "cell_type": "code",
   "source": [
    "l1 = [[\"l1\",\"l2\"],[\"l3\",\"l4\"]]\n",
    "print(l1[len(l1) - 1][0])"
   ],
   "metadata": {
    "id": "Kz2jZHsGeLlz"
   },
   "execution_count": 8,
   "outputs": [
    {
     "name": "stdout",
     "output_type": "stream",
     "text": [
      "l3\n"
     ]
    }
   ]
  },
  {
   "cell_type": "markdown",
   "source": [
    "12. Створіть список з десяти елементів різного типу. Отримайте всі елементи, окрім двох перших та двох останніх та збережіть їх в новій змінній."
   ],
   "metadata": {
    "id": "JA47PKTv8zFK"
   }
  },
  {
   "cell_type": "code",
   "source": [
    "l1 = [\"l1\", 1, False, True, [2, 1], {'l1': 2}, 2.4, \"one\", 1, \"l3\"]\n",
    "l2 = l1[2:-2]\n",
    "print(l2)"
   ],
   "metadata": {
    "id": "_rHdUR-ueP4-"
   },
   "execution_count": 13,
   "outputs": [
    {
     "name": "stdout",
     "output_type": "stream",
     "text": [
      "[False, True, [2, 1], {'l1': 2}, 2.4, 'one']\n"
     ]
    }
   ]
  },
  {
   "cell_type": "markdown",
   "source": [
    "# V. Робота з кортежами."
   ],
   "metadata": {
    "id": "pCjR1dJb1Qbi"
   }
  },
  {
   "cell_type": "markdown",
   "source": [
    "14. Створити кортеж з один елементом."
   ],
   "metadata": {
    "id": "fAZCxAX06R_k"
   }
  },
  {
   "cell_type": "code",
   "source": [
    "t1 = tuple(\"o\")\n",
    "print(t1)"
   ],
   "metadata": {
    "id": "H7d82WkQev3e"
   },
   "execution_count": 15,
   "outputs": [
    {
     "name": "stdout",
     "output_type": "stream",
     "text": [
      "('o',)\n"
     ]
    }
   ]
  },
  {
   "cell_type": "markdown",
   "source": [
    "15. Порівняйте список та кортеж. Назвіть схожості та відмінності, випадки використання."
   ],
   "metadata": {
    "id": "8LCtYcmI6w1M"
   }
  },
  {
   "cell_type": "markdown",
   "source": [
    "1. Різниця в синтаксисі та те, що кортежі не змінні, а списки змінні\n",
    "2. Спільне можуть зберігати різні типи об'єктів та підтримують індексацію, ітерацію\n"
   ],
   "metadata": {
    "id": "fUsN1Hnue0C6"
   }
  },
  {
   "cell_type": "markdown",
   "source": [
    "16. Створіть кортеж з 11ти елементів чисел з рухомою комою та отримайте кожен парний за індексом елемент в зворотньому порядку. Наприклад, маючи (1.2, 2.3, 3.3, 4.3, 5.3, 6.3, 7.3, 8.3, 9.3, 0.3), отримати (0.3, 8.3, 6.3, 4.3, 2.3). Результат збережіть в нову змінну та виведіть на екран."
   ],
   "metadata": {
    "id": "m0xrwFijAmDD"
   }
  },
  {
   "cell_type": "code",
   "source": [
    "t1 = (1.2, 2.3, 3.3, 4.3, 5.3, 6.3, 7.3, 8.3, 9.3, 0.3)\n",
    "t2 = t1[-1::-2]\n",
    "print(t2)"
   ],
   "metadata": {
    "id": "p-5DAH6XfAGA"
   },
   "execution_count": 24,
   "outputs": [
    {
     "name": "stdout",
     "output_type": "stream",
     "text": [
      "(0.3, 8.3, 6.3, 4.3, 2.3)\n"
     ]
    }
   ]
  },
  {
   "cell_type": "markdown",
   "source": [
    "# VI. Множини (Set)."
   ],
   "metadata": {
    "id": "rW_I9dt3x6cW"
   }
  },
  {
   "cell_type": "markdown",
   "source": [
    "17. Створити множину без елементів. Після цого за допомогою методу додайте кілька різних елементів до множини. Чи множини є змінним типом даних?"
   ],
   "metadata": {
    "id": "zNjRLHLw1Bgg"
   }
  },
  {
   "cell_type": "code",
   "source": [
    "set1 = set()\n",
    "set1.add(\"1\")\n",
    "set1.add(2)\n",
    "set1.add(True)\n",
    "print(set1)"
   ],
   "metadata": {
    "id": "KOv7zc2Kfo4N"
   },
   "execution_count": 25,
   "outputs": [
    {
     "name": "stdout",
     "output_type": "stream",
     "text": [
      "{True, 2, '1'}\n"
     ]
    }
   ]
  },
  {
   "cell_type": "markdown",
   "source": [
    "Виходить що так, множини є змінним типом даних"
   ],
   "metadata": {
    "id": "vxS6dVYiftZQ"
   }
  },
  {
   "cell_type": "markdown",
   "source": [
    "18. Створити множину, маючи список my_list = [1, 1, 2, 67, 67, 8, 9]. Пояснити, чому \"зникли\" деякі елементи."
   ],
   "metadata": {
    "id": "gHpT0Zw_1HEF"
   }
  },
  {
   "cell_type": "code",
   "source": [
    "my_list = [1, 1, 2, 67, 67, 8, 9]\n",
    "set1 = set(my_list)\n",
    "print(set1)"
   ],
   "metadata": {
    "id": "qCN4uvJ_fxmu"
   },
   "execution_count": 26,
   "outputs": [
    {
     "name": "stdout",
     "output_type": "stream",
     "text": [
      "{1, 2, 67, 8, 9}\n"
     ]
    }
   ]
  },
  {
   "cell_type": "markdown",
   "source": [
    "Тому що сет містить тільки унікальні значення"
   ],
   "metadata": {
    "id": "tFNc1e20fyny"
   }
  },
  {
   "cell_type": "markdown",
   "source": [
    "19. Створіть дві множини. Продемонстуйте над ними операції: обʼєднання, різниці, пересічі та симетричної різниці. Використовуйте методи, що не змінюють множини, а створюють нові."
   ],
   "metadata": {
    "id": "SRMkGizS1UwY"
   }
  },
  {
   "cell_type": "code",
   "source": [
    "set1 = {1, 2, 3, 4, 5}\n",
    "set2 = {4, 5, 6, 7, 8,9}\n",
    "\n",
    "# Об'єднання\n",
    "union_set = set1.union(set2)\n",
    "difference_set = set1.difference(set2)\n",
    "intersection_set = set1.intersection(set2)\n",
    "symmetric_difference_set = set1.symmetric_difference(set2)\n",
    "print(\n",
    "    f\"\"\"\n",
    "    union_set = {union_set}\n",
    "    difference_set = {difference_set}\n",
    "    intersection_set = {intersection_set}\n",
    "    symmetric_difference_set = {symmetric_difference_set}\n",
    "    \"\"\"\n",
    ")"
   ],
   "metadata": {
    "id": "h0T-VuDnf3Ri"
   },
   "execution_count": 29,
   "outputs": [
    {
     "name": "stdout",
     "output_type": "stream",
     "text": [
      "\n",
      "    union_set = {1, 2, 3, 4, 5, 6, 7, 8, 9}\n",
      "    difference_set = {1, 2, 3}\n",
      "    intersection_set = {4, 5}\n",
      "    symmetric_difference_set = {1, 2, 3, 6, 7, 8, 9}\n",
      "    \n"
     ]
    }
   ]
  },
  {
   "cell_type": "markdown",
   "source": [
    "# VII. Словники (Dictionary)."
   ],
   "metadata": {
    "id": "kWc8gkzTx7Ea"
   }
  },
  {
   "cell_type": "markdown",
   "source": [
    "20. Створіть пустий словник. До нього додайте чотири пари елементів такі, щоб їхні ключі були різних типів. Чи може список бути ключем? Чому?"
   ],
   "metadata": {
    "id": "i5FLwj-B2ybQ"
   }
  },
  {
   "cell_type": "code",
   "source": [
    "dict1 = {}\n",
    "\n",
    "dict1[1] = \"1\"\n",
    "dict1[\"one\"] = \"one\"\n",
    "dict1[1.0] = \"1.0\"\n",
    "dict1[(1, 2)] = \"(1, 2)\"\n",
    "print(dict1)"
   ],
   "metadata": {
    "id": "hxgv3BzrgLAV"
   },
   "execution_count": 34,
   "outputs": [
    {
     "name": "stdout",
     "output_type": "stream",
     "text": [
      "{1: '1.0', 'one': 'one', (1, 2): '(1, 2)'}\n"
     ]
    }
   ]
  },
  {
   "cell_type": "markdown",
   "source": [
    "Ключі повинні мати змогу перетворюватися в хеш, щоб оптимізовувати пошук"
   ],
   "metadata": {
    "id": "zwa7UVN-gR3m"
   }
  },
  {
   "cell_type": "markdown",
   "source": [
    "21. Створіть словник, де значенням в одній з пар теж буде словник, який теж має вкладений словник. Виведіть на екран значення, що міститься в словнику, що знаходиться на найнижчому рівні ієрархії вкладеності (найбільш внутрішній)."
   ],
   "metadata": {
    "id": "WM_pMlJsgoNf"
   }
  },
  {
   "cell_type": "code",
   "source": [
    "dict1 = {\n",
    "    \"k1\": \"v1\",\n",
    "    \"k2\": {\n",
    "        \"ik1\": \"iv1\",\n",
    "        \"ik2\": {\n",
    "            \"iik1\": \"iiv1\"\n",
    "        }\n",
    "    }\n",
    "}\n",
    "print(dict1[\"k2\"][\"ik2\"][\"iik1\"])"
   ],
   "metadata": {
    "id": "60dlP7IHhAy4"
   },
   "execution_count": 36,
   "outputs": [
    {
     "name": "stdout",
     "output_type": "stream",
     "text": [
      "iiv1\n"
     ]
    }
   ]
  },
  {
   "cell_type": "markdown",
   "source": [
    "# Вітаю! Ви велика(ий) молодець, що впоралась(вся). Похваліть себе та побалуйте чимось приємним. Я Вами пишаюся."
   ],
   "metadata": {
    "id": "xOZP0hkx6cCr"
   }
  }
 ]
}
